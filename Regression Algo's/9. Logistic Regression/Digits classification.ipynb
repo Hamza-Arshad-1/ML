{
 "cells": [
  {
   "cell_type": "code",
   "execution_count": 1,
   "id": "b0feac00",
   "metadata": {},
   "outputs": [],
   "source": [
    "import matplotlib.pyplot as plt"
   ]
  },
  {
   "cell_type": "code",
   "execution_count": 2,
   "id": "e48942ad",
   "metadata": {},
   "outputs": [],
   "source": [
    "from sklearn.datasets import load_digits"
   ]
  },
  {
   "cell_type": "code",
   "execution_count": 3,
   "id": "171a3d6f",
   "metadata": {},
   "outputs": [],
   "source": [
    "digits = load_digits()"
   ]
  },
  {
   "cell_type": "code",
   "execution_count": 9,
   "id": "6bdbce15",
   "metadata": {},
   "outputs": [
    {
     "data": {
      "text/plain": [
       "['DESCR', 'data', 'feature_names', 'frame', 'images', 'target', 'target_names']"
      ]
     },
     "execution_count": 9,
     "metadata": {},
     "output_type": "execute_result"
    }
   ],
   "source": [
    "dir(digits)"
   ]
  },
  {
   "cell_type": "code",
   "execution_count": 11,
   "id": "526bea25",
   "metadata": {},
   "outputs": [
    {
     "data": {
      "text/plain": [
       "array([[ 0.,  0.,  5., 13.,  9.,  1.,  0.,  0.],\n",
       "       [ 0.,  0., 13., 15., 10., 15.,  5.,  0.],\n",
       "       [ 0.,  3., 15.,  2.,  0., 11.,  8.,  0.],\n",
       "       [ 0.,  4., 12.,  0.,  0.,  8.,  8.,  0.],\n",
       "       [ 0.,  5.,  8.,  0.,  0.,  9.,  8.,  0.],\n",
       "       [ 0.,  4., 11.,  0.,  1., 12.,  7.,  0.],\n",
       "       [ 0.,  2., 14.,  5., 10., 12.,  0.,  0.],\n",
       "       [ 0.,  0.,  6., 13., 10.,  0.,  0.,  0.]])"
      ]
     },
     "execution_count": 11,
     "metadata": {},
     "output_type": "execute_result"
    }
   ],
   "source": [
    "digits.images[0]"
   ]
  },
  {
   "cell_type": "code",
   "execution_count": 17,
   "id": "20d48f81",
   "metadata": {},
   "outputs": [
    {
     "data": {
      "image/png": "[encoded data removed]",
      "text/plain": [
       "<Figure size 288x288 with 1 Axes>"
      ]
     },
     "metadata": {
      "needs_background": "light"
     },
     "output_type": "display_data"
    },
    {
     "data": {
      "image/png": "[encoded data removed]",
      "text/plain": [
       "<Figure size 288x288 with 1 Axes>"
      ]
     },
     "metadata": {
      "needs_background": "light"
     },
     "output_type": "display_data"
    },
    {
     "data": {
      "image/png": "[encoded data removed]",
      "text/plain": [
       "<Figure size 288x288 with 1 Axes>"
      ]
     },
     "metadata": {
      "needs_background": "light"
     },
     "output_type": "display_data"
    },
    {
     "data": {
      "image/png": "[encoded data removed]",
      "text/plain": [
       "<Figure size 288x288 with 1 Axes>"
      ]
     },
     "metadata": {
      "needs_background": "light"
     },
     "output_type": "display_data"
    },
    {
     "data": {
      "image/png": "[encoded data removed]",
      "text/plain": [
       "<Figure size 288x288 with 1 Axes>"
      ]
     },
     "metadata": {
      "needs_background": "light"
     },
     "output_type": "display_data"
    }
   ],
   "source": [
    "for i in range(5):\n",
    "    plt.matshow(digits.images[i])"
   ]
  },
  {
   "cell_type": "code",
   "execution_count": 23,
   "id": "e23a9aff",
   "metadata": {},
   "outputs": [
    {
     "data": {
      "text/plain": [
       "array([0, 1, 2, ..., 8, 9, 8])"
      ]
     },
     "execution_count": 23,
     "metadata": {},
     "output_type": "execute_result"
    }
   ],
   "source": [
    "digits.target"
   ]
  },
  {
   "cell_type": "code",
   "execution_count": 24,
   "id": "bba7ae69",
   "metadata": {},
   "outputs": [],
   "source": [
    "from sklearn.linear_model import LogisticRegression"
   ]
  },
  {
   "cell_type": "code",
   "execution_count": 25,
   "id": "8f344192",
   "metadata": {},
   "outputs": [],
   "source": [
    "model = LogisticRegression()"
   ]
  },
  {
   "cell_type": "code",
   "execution_count": 28,
   "id": "e3217f5d",
   "metadata": {},
   "outputs": [],
   "source": [
    "X = digits.data"
   ]
  },
  {
   "cell_type": "code",
   "execution_count": 29,
   "id": "f65bec85",
   "metadata": {},
   "outputs": [],
   "source": [
    "y = digits.target"
   ]
  },
  {
   "cell_type": "code",
   "execution_count": 30,
   "id": "b78c56a7",
   "metadata": {},
   "outputs": [],
   "source": [
    "from sklearn.model_selection import train_test_split"
   ]
  },
  {
   "cell_type": "code",
   "execution_count": 57,
   "id": "8d70560b",
   "metadata": {},
   "outputs": [],
   "source": [
    "X_train, X_test, y_train, y_test = train_test_split(X, y, train_size = 0.8)"
   ]
  },
  {
   "cell_type": "code",
   "execution_count": 58,
   "id": "8b76db1f",
   "metadata": {},
   "outputs": [
    {
     "data": {
      "text/plain": [
       "array([[ 0.,  3., 16., ..., 16.,  8.,  0.],\n",
       "       [ 0.,  0.,  0., ...,  0.,  0.,  0.],\n",
       "       [ 0.,  0.,  0., ...,  1.,  0.,  0.],\n",
       "       ...,\n",
       "       [ 0.,  0.,  2., ...,  6.,  0.,  0.],\n",
       "       [ 0.,  0.,  0., ...,  0.,  0.,  0.],\n",
       "       [ 0.,  0.,  2., ...,  0.,  0.,  0.]])"
      ]
     },
     "execution_count": 58,
     "metadata": {},
     "output_type": "execute_result"
    }
   ],
   "source": [
    "X_train"
   ]
  },
  {
   "cell_type": "code",
   "execution_count": 59,
   "id": "156efdd3",
   "metadata": {},
   "outputs": [
    {
     "data": {
      "text/plain": [
       "1437"
      ]
     },
     "execution_count": 59,
     "metadata": {},
     "output_type": "execute_result"
    }
   ],
   "source": [
    "len(X_train)"
   ]
  },
  {
   "cell_type": "code",
   "execution_count": 60,
   "id": "e4fde5c3",
   "metadata": {},
   "outputs": [
    {
     "data": {
      "text/plain": [
       "1437"
      ]
     },
     "execution_count": 60,
     "metadata": {},
     "output_type": "execute_result"
    }
   ],
   "source": [
    "len(y_train)"
   ]
  },
  {
   "cell_type": "code",
   "execution_count": 61,
   "id": "f0d8e878",
   "metadata": {},
   "outputs": [
    {
     "name": "stderr",
     "output_type": "stream",
     "text": [
      "G:\\ana\\lib\\site-packages\\sklearn\\linear_model\\_logistic.py:763: ConvergenceWarning: lbfgs failed to converge (status=1):\n",
      "STOP: TOTAL NO. of ITERATIONS REACHED LIMIT.\n",
      "\n",
      "Increase the number of iterations (max_iter) or scale the data as shown in:\n",
      "    https://scikit-learn.org/stable/modules/preprocessing.html\n",
      "Please also refer to the documentation for alternative solver options:\n",
      "    https://scikit-learn.org/stable/modules/linear_model.html#logistic-regression\n",
      "  n_iter_i = _check_optimize_result(\n"
     ]
    },
    {
     "data": {
      "text/plain": [
       "LogisticRegression()"
      ]
     },
     "execution_count": 61,
     "metadata": {},
     "output_type": "execute_result"
    }
   ],
   "source": [
    "model.fit(X_train, y_train)"
   ]
  },
  {
   "cell_type": "code",
   "execution_count": 62,
   "id": "a8536ca6",
   "metadata": {},
   "outputs": [
    {
     "data": {
      "text/plain": [
       "array([1, 6, 0, 5, 5, 9, 0, 1, 9, 9, 8, 0, 9, 3, 7, 5, 1, 5, 3, 8, 8, 6,\n",
       "       6, 0, 9, 1, 9, 8, 0, 1, 4, 0, 1, 1, 0, 4, 4, 7, 8, 7, 6, 5, 2, 3,\n",
       "       4, 0, 5, 0, 9, 6, 2, 3, 7, 5, 0, 5, 8, 0, 9, 5, 2, 8, 6, 5, 6, 1,\n",
       "       5, 3, 7, 8, 7, 5, 2, 5, 1, 2, 1, 5, 4, 4, 6, 0, 3, 9, 0, 3, 1, 2,\n",
       "       5, 1, 0, 1, 6, 6, 1, 3, 4, 6, 6, 4, 0, 5, 3, 3, 5, 3, 9, 3, 3, 7,\n",
       "       3, 4, 0, 0, 8, 9, 2, 6, 4, 1, 1, 5, 6, 6, 6, 0, 0, 8, 5, 5, 8, 1,\n",
       "       2, 5, 1, 6, 5, 0, 3, 8, 9, 8, 1, 1, 0, 0, 9, 4, 0, 8, 2, 3, 1, 4,\n",
       "       1, 5, 5, 1, 9, 6, 6, 3, 1, 8, 9, 8, 3, 9, 3, 5, 4, 6, 9, 9, 2, 7,\n",
       "       0, 3, 4, 0, 9, 9, 2, 2, 0, 8, 0, 9, 4, 4, 7, 0, 2, 1, 3, 9, 9, 9,\n",
       "       9, 6, 4, 2, 2, 5, 4, 9, 8, 3, 6, 1, 5, 5, 1, 5, 5, 7, 1, 9, 1, 6,\n",
       "       2, 5, 2, 2, 6, 6, 5, 5, 0, 9, 4, 9, 8, 4, 3, 7, 3, 6, 8, 3, 9, 0,\n",
       "       1, 5, 1, 2, 1, 5, 7, 8, 2, 8, 7, 3, 4, 0, 3, 3, 7, 8, 7, 4, 7, 7,\n",
       "       2, 9, 4, 5, 4, 4, 5, 4, 0, 1, 3, 4, 8, 1, 6, 6, 0, 6, 7, 6, 4, 5,\n",
       "       0, 9, 6, 8, 1, 5, 4, 4, 6, 7, 7, 9, 4, 1, 8, 0, 8, 6, 2, 2, 2, 7,\n",
       "       5, 3, 1, 4, 1, 0, 0, 6, 4, 8, 2, 2, 6, 2, 1, 9, 7, 1, 6, 6, 9, 1,\n",
       "       5, 3, 6, 7, 9, 9, 0, 2, 2, 8, 9, 1, 3, 3, 0, 2, 5, 2, 7, 2, 3, 8,\n",
       "       5, 2, 3, 5, 7, 7, 4, 2])"
      ]
     },
     "execution_count": 62,
     "metadata": {},
     "output_type": "execute_result"
    }
   ],
   "source": [
    "model.predict(X_test)"
   ]
  },
  {
   "cell_type": "code",
   "execution_count": 63,
   "id": "4dd6e410",
   "metadata": {},
   "outputs": [
    {
     "data": {
      "text/plain": [
       "array([1, 6, 0, 5, 5, 9, 0, 1, 9, 9, 8, 0, 9, 3, 7, 5, 1, 5, 3, 8, 8, 6,\n",
       "       6, 0, 9, 1, 9, 8, 0, 8, 4, 0, 1, 1, 0, 4, 4, 7, 8, 7, 6, 5, 2, 3,\n",
       "       4, 0, 5, 0, 9, 6, 2, 3, 7, 5, 0, 5, 8, 0, 9, 5, 2, 8, 6, 5, 6, 1,\n",
       "       5, 3, 7, 8, 7, 5, 2, 5, 1, 2, 1, 5, 4, 4, 6, 0, 3, 9, 0, 3, 1, 2,\n",
       "       5, 1, 0, 1, 6, 6, 1, 3, 4, 6, 6, 4, 0, 5, 3, 3, 5, 3, 9, 3, 3, 7,\n",
       "       3, 4, 0, 0, 8, 9, 2, 6, 4, 1, 1, 5, 6, 6, 6, 0, 0, 8, 5, 5, 3, 1,\n",
       "       2, 5, 1, 6, 5, 0, 3, 8, 9, 8, 1, 1, 0, 5, 9, 4, 0, 8, 2, 3, 1, 4,\n",
       "       1, 5, 5, 1, 9, 6, 6, 3, 1, 8, 9, 8, 3, 9, 3, 5, 4, 6, 9, 9, 2, 7,\n",
       "       0, 3, 4, 0, 9, 9, 2, 2, 0, 8, 0, 9, 4, 4, 7, 0, 2, 1, 3, 9, 9, 9,\n",
       "       9, 6, 4, 2, 2, 5, 4, 9, 8, 3, 6, 1, 5, 5, 1, 5, 5, 7, 1, 9, 1, 6,\n",
       "       2, 5, 2, 2, 6, 6, 5, 5, 0, 7, 4, 9, 8, 4, 3, 7, 3, 6, 8, 3, 9, 0,\n",
       "       1, 5, 1, 2, 1, 5, 7, 8, 2, 8, 7, 3, 4, 0, 3, 3, 7, 8, 7, 4, 7, 7,\n",
       "       2, 9, 4, 5, 4, 4, 5, 4, 0, 1, 3, 4, 8, 1, 6, 6, 0, 6, 7, 6, 4, 5,\n",
       "       0, 9, 6, 8, 8, 5, 4, 4, 6, 7, 7, 9, 4, 1, 8, 0, 8, 6, 2, 2, 2, 7,\n",
       "       5, 3, 8, 4, 1, 0, 0, 6, 4, 8, 2, 2, 6, 2, 1, 9, 7, 1, 6, 6, 9, 1,\n",
       "       5, 9, 6, 7, 9, 9, 0, 2, 2, 8, 9, 1, 3, 3, 0, 2, 5, 2, 7, 2, 3, 8,\n",
       "       5, 2, 3, 5, 7, 7, 4, 2])"
      ]
     },
     "execution_count": 63,
     "metadata": {},
     "output_type": "execute_result"
    }
   ],
   "source": [
    "y_test"
   ]
  },
  {
   "cell_type": "code",
   "execution_count": 64,
   "id": "b8df65d5",
   "metadata": {},
   "outputs": [
    {
     "data": {
      "text/plain": [
       "0.9805555555555555"
      ]
     },
     "execution_count": 64,
     "metadata": {},
     "output_type": "execute_result"
    }
   ],
   "source": [
    "model.score(X_test, y_test)"
   ]
  },
  {
   "cell_type": "code",
   "execution_count": 65,
   "id": "966f7a26",
   "metadata": {},
   "outputs": [],
   "source": [
    "y_p = model.predict(X_test)"
   ]
  },
  {
   "cell_type": "code",
   "execution_count": 70,
   "id": "84055d18",
   "metadata": {},
   "outputs": [],
   "source": [
    "#we can use confusion matrix to know matching digits \n",
    "from sklearn.metrics import confusion_matrix"
   ]
  },
  {
   "cell_type": "markdown",
   "id": "63bcf5cb",
   "metadata": {},
   "source": [
    "cm = confusion_matrix(y_test, y_p)"
   ]
  },
  {
   "cell_type": "code",
   "execution_count": 72,
   "id": "31fa19d8",
   "metadata": {},
   "outputs": [
    {
     "data": {
      "text/plain": [
       "array([[38,  0,  0,  0,  0,  0,  0,  0,  0,  0],\n",
       "       [ 0, 39,  0,  0,  0,  0,  0,  0,  0,  0],\n",
       "       [ 0,  0, 34,  0,  0,  0,  0,  0,  0,  0],\n",
       "       [ 0,  0,  0, 34,  0,  0,  0,  0,  1,  0],\n",
       "       [ 0,  0,  0,  0, 34,  0,  0,  0,  0,  0],\n",
       "       [ 1,  0,  0,  0,  0, 44,  0,  0,  0,  0],\n",
       "       [ 0,  0,  0,  0,  0,  0, 38,  0,  0,  0],\n",
       "       [ 0,  0,  0,  0,  0,  0,  0, 26,  0,  1],\n",
       "       [ 0,  3,  0,  0,  0,  0,  0,  0, 29,  0],\n",
       "       [ 0,  0,  0,  1,  0,  0,  0,  0,  0, 37]], dtype=int64)"
      ]
     },
     "execution_count": 72,
     "metadata": {},
     "output_type": "execute_result"
    }
   ],
   "source": [
    "cm"
   ]
  },
  {
   "cell_type": "code",
   "execution_count": 74,
   "id": "354febdf",
   "metadata": {},
   "outputs": [
    {
     "data": {
      "text/plain": [
       "Text(69.0, 0.5, 'Truth')"
      ]
     },
     "execution_count": 74,
     "metadata": {},
     "output_type": "execute_result"
    },
    {
     "data": {
      "image/png": "[encoded data removed]",
      "text/plain": [
       "<Figure size 720x504 with 2 Axes>"
      ]
     },
     "metadata": {
      "needs_background": "light"
     },
     "output_type": "display_data"
    }
   ],
   "source": [
    "#for visualization we use seaborn\n",
    "import seaborn as sns\n",
    "plt.figure(figsize = (10, 7))\n",
    "sns.heatmap(cm, annot = True)\n",
    "plt.xlabel('predicted')\n",
    "plt.ylabel('Truth')"
   ]
  },
  {
   "cell_type": "code",
   "execution_count": 75,
   "id": "605cd54b",
   "metadata": {},
   "outputs": [
    {
     "data": {
      "text/plain": [
       "0.9805555555555555"
      ]
     },
     "execution_count": 75,
     "metadata": {},
     "output_type": "execute_result"
    }
   ],
   "source": [
    "model.score(X_test, y_test)"
   ]
  }
 ],
 "metadata": {
  "kernelspec": {
   "display_name": "Python 3 (ipykernel)",
   "language": "python",
   "name": "python3"
  },
  "language_info": {
   "codemirror_mode": {
    "name": "ipython",
    "version": 3
   },
   "file_extension": ".py",
   "mimetype": "text/x-python",
   "name": "python",
   "nbconvert_exporter": "python",
   "pygments_lexer": "ipython3",
   "version": "3.9.7"
  }
 },
 "nbformat": 4,
 "nbformat_minor": 5
}
